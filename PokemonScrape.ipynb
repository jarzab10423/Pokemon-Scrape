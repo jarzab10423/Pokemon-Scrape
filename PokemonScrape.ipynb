{
 "cells": [
  {
   "cell_type": "markdown",
   "id": "ecffd005",
   "metadata": {},
   "source": [
    "## Import packages"
   ]
  },
  {
   "cell_type": "code",
   "execution_count": 5,
   "id": "d0fbcca1",
   "metadata": {},
   "outputs": [],
   "source": [
    "from selenium.webdriver.common.keys import Keys\n",
    "from selenium.webdriver.common.by import By\n",
    "from selenium import webdriver\n",
    "import pandas as pd \n"
   ]
  },
  {
   "cell_type": "markdown",
   "id": "4497c974",
   "metadata": {},
   "source": [
    "## Open  Link"
   ]
  },
  {
   "cell_type": "code",
   "execution_count": 6,
   "id": "079991d6",
   "metadata": {},
   "outputs": [
    {
     "name": "stderr",
     "output_type": "stream",
     "text": [
      "C:\\Users\\Lukasz\\AppData\\Local\\Temp\\ipykernel_14908\\3445931493.py:1: DeprecationWarning: executable_path has been deprecated, please pass in a Service object\n",
      "  driver = webdriver.Chrome(r\"C:\\Users\\Lukasz\\anaconda3\\chromedriver_win32\\chromedriver.exe\")\n"
     ]
    }
   ],
   "source": [
    "driver = webdriver.Chrome(r\"C:\\Users\\Lukasz\\anaconda3\\chromedriver_win32\\chromedriver.exe\")\n",
    "driver.get(\"https://pokemondb.net/pokedex/all\")\n",
    "driver.maximize_window()"
   ]
  },
  {
   "cell_type": "markdown",
   "id": "a1667c0a",
   "metadata": {},
   "source": [
    "## Create Locators"
   ]
  },
  {
   "cell_type": "code",
   "execution_count": null,
   "id": "d9811750",
   "metadata": {},
   "outputs": [],
   "source": [
    "#name \n",
    "pokemon_name = driver.find_elements(By.XPATH, \"//tbody/tr/td[2]\")\n",
    "\n",
    "#type\n",
    "pokemon_type = driver.find_elements(By.XPATH, \"//tbody/tr/td[3]\")\n",
    "\n",
    "#total\n",
    "pokemon_total = driver.find_elements(By.XPATH, \"//tbody/tr/td[4]\")\n",
    "\n",
    "#HP\n",
    "pokemon_HP = driver.find_elements(By.XPATH, \"//tbody/tr/td[5]\")\n",
    "\n",
    "#Attack\n",
    "pokemon_Attack = driver.find_elements(By.XPATH, \"//tbody/tr/td[6]\")\n",
    "\n",
    "#Defence\n",
    "pokemon_Defence = driver.find_elements(By.XPATH, \"//tbody/tr/td[7]\")\n",
    "\n",
    "#Sp.Atk\n",
    "pokemon_Sp_Atk = driver.find_elements(By.XPATH, \"//tbody/tr/td[8]\")\n",
    "\n",
    "#Sp.Def\n",
    "pokemon_Sp_Def = driver.find_elements(By.XPATH, \"//tbody/tr/td[9]\")\n",
    "\n",
    "#Speed\n",
    "pokemon_Speed = driver.find_elements(By.XPATH, \"//tbody/tr/td[10]\")\n",
    "\n"
   ]
  },
  {
   "cell_type": "markdown",
   "id": "d31bb8ed",
   "metadata": {},
   "source": [
    "## Empty list"
   ]
  },
  {
   "cell_type": "code",
   "execution_count": null,
   "id": "1045b1eb",
   "metadata": {},
   "outputs": [],
   "source": [
    "pokemon_results = []\n"
   ]
  },
  {
   "cell_type": "markdown",
   "id": "e0b53fbe",
   "metadata": {},
   "source": [
    "## Dictionary"
   ]
  },
  {
   "cell_type": "code",
   "execution_count": null,
   "id": "c5bb1b32",
   "metadata": {},
   "outputs": [],
   "source": [
    "for i in range(len(pokemon_name)):\n",
    "    pokemon_dictionary ={'Name': pokemon_name[i].text,\n",
    "                        'Type': pokemon_type[i].text,\n",
    "                        'Total': pokemon_total[i].text,\n",
    "                         'HP': pokemon_HP[i].text,\n",
    "                         'Attack': pokemon_Attack[i].text,\n",
    "                         'Defence':pokemon_Defence[i].text,\n",
    "                         'Sp Atk' : pokemon_Sp_Atk[i].text,\n",
    "                         'Sp Def' : pokemon_Sp_Def[i].text,\n",
    "                         'Speed' : pokemon_Speed[i].text\n",
    "                          \n",
    "                        }\n",
    "    pokemon_results.append(pokemon_dictionary)"
   ]
  },
  {
   "cell_type": "code",
   "execution_count": null,
   "id": "f933770f",
   "metadata": {},
   "outputs": [],
   "source": [
    "print(pokemon_results[1:10])"
   ]
  },
  {
   "cell_type": "markdown",
   "id": "f11ddde9",
   "metadata": {},
   "source": [
    "# Dataframe"
   ]
  },
  {
   "cell_type": "code",
   "execution_count": null,
   "id": "9d48f335",
   "metadata": {},
   "outputs": [],
   "source": [
    "dataframe_pokemon = pd.DataFrame(pokemon_results)"
   ]
  },
  {
   "cell_type": "code",
   "execution_count": null,
   "id": "120e7f6d",
   "metadata": {},
   "outputs": [],
   "source": [
    "dataframe_pokemon"
   ]
  },
  {
   "cell_type": "markdown",
   "id": "adadaef2",
   "metadata": {},
   "source": [
    "## Cleaning the data"
   ]
  },
  {
   "cell_type": "code",
   "execution_count": null,
   "id": "0265938e",
   "metadata": {},
   "outputs": [],
   "source": [
    "##Replace some characters\n",
    "\n",
    "dataframe_pokemon['Type'] = dataframe_pokemon['Type'].apply(lambda x: x.replace(\"\\n\", ','))"
   ]
  },
  {
   "cell_type": "code",
   "execution_count": null,
   "id": "46ab01e5",
   "metadata": {},
   "outputs": [],
   "source": [
    "#update on dataframe\n",
    "dataframe_pokemon"
   ]
  },
  {
   "cell_type": "code",
   "execution_count": null,
   "id": "d2aecec5",
   "metadata": {},
   "outputs": [],
   "source": [
    "dataframe_pokemon['Name'] = dataframe_pokemon['Name'].apply(lambda x: x.replace(\"\\n\", '/'))"
   ]
  },
  {
   "cell_type": "code",
   "execution_count": null,
   "id": "b3f3de75",
   "metadata": {
    "scrolled": true
   },
   "outputs": [],
   "source": [
    "#update on dataframe\n",
    "dataframe_pokemon"
   ]
  },
  {
   "cell_type": "markdown",
   "id": "69b54fff",
   "metadata": {},
   "source": [
    "## Dataframe to Excel"
   ]
  },
  {
   "cell_type": "code",
   "execution_count": null,
   "id": "5baf4fe5",
   "metadata": {},
   "outputs": [],
   "source": [
    "dataframe_pokemon.to_excel('pokemon_DB.xlsx', index = False)"
   ]
  },
  {
   "cell_type": "code",
   "execution_count": null,
   "id": "5d26815f",
   "metadata": {},
   "outputs": [],
   "source": []
  }
 ],
 "metadata": {
  "kernelspec": {
   "display_name": "Python 3 (ipykernel)",
   "language": "python",
   "name": "python3"
  },
  "language_info": {
   "codemirror_mode": {
    "name": "ipython",
    "version": 3
   },
   "file_extension": ".py",
   "mimetype": "text/x-python",
   "name": "python",
   "nbconvert_exporter": "python",
   "pygments_lexer": "ipython3",
   "version": "3.9.12"
  }
 },
 "nbformat": 4,
 "nbformat_minor": 5
}
